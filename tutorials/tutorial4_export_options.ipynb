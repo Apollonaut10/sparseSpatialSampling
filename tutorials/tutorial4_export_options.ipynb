{
 "cells": [
  {
   "cell_type": "markdown",
   "id": "9e954576-1b51-4afc-a7c4-fb55259f84ee",
   "metadata": {},
   "source": [
    "# Tutorial 4: Loading existing `s_cube` objects and export options\n",
    "## flowTorch workshop 29.09.2025 - 02.10.2025\n",
    "\n",
    "### Outline\n",
    "here: \n",
    "- export options: batches, snapshot-by-snaphot, vertex-centered fields, ...\n",
    "- loading exisiting scube objects and exporting fields\n",
    "\n",
    "assuming tutorial 1 has been executed"
   ]
  },
  {
   "cell_type": "code",
   "execution_count": null,
   "id": "bac87c9d-3c95-4509-92d8-0182e6ba1ed7",
   "metadata": {},
   "outputs": [],
   "source": [
    "import sys\n",
    "import torch as pt\n",
    "\n",
    "from stl import mesh\n",
    "from os.path import join\n",
    "from os import environ, system\n",
    "\n",
    "environ[\"sparseSpatialSampling\"] = \"..\"\n",
    "sys.path.insert(0, environ[\"sparseSpatialSampling\"])\n",
    "\n",
    "from sparseSpatialSampling.export import ExportData\n"
   ]
  },
  {
   "cell_type": "code",
   "execution_count": null,
   "id": "2eec0519-e390-4101-86f2-a1c7725fe75d",
   "metadata": {},
   "outputs": [],
   "source": [
    "# path to the CFD data and settings\n",
    "load_path = join(\"..\", \"run\", \"tutorials\", \"tutorial_1\")\n",
    "\n",
    "# here we use the approximated metric field as stopping criterion\n",
    "# how much of the metric within the original grid should be captured at least\n",
    "min_metric = 0.75\n",
    "\n",
    "# define the path to where we want to save the results and the name of the file\n",
    "save_path = join(\"..\", \"run\", \"tutorials\", \"tutorial_4\")\n",
    "\n",
    "# define boundaries of the masked domain for the cylinder, here we want to load the full domain\n",
    "bounds = [[0, 0], [2.2, 0.41]]  # [[xmin, ymin], [xmax, ymax]]"
   ]
  },
  {
   "cell_type": "code",
   "execution_count": null,
   "id": "3e2ba9d4-a04b-406f-b366-3a10eb5f77fc",
   "metadata": {},
   "outputs": [],
   "source": [
    "# load the s_cube object\n",
    "s_cube = pt.load(join(load_path, \"cylinder2D_metric_0.75.pt\"), weights_only=False)"
   ]
  }
 ],
 "metadata": {
  "kernelspec": {
   "display_name": "Python 3 (ipykernel)",
   "language": "python",
   "name": "python3"
  },
  "language_info": {
   "codemirror_mode": {
    "name": "ipython",
    "version": 3
   },
   "file_extension": ".py",
   "mimetype": "text/x-python",
   "name": "python",
   "nbconvert_exporter": "python",
   "pygments_lexer": "ipython3",
   "version": "3.12.7"
  }
 },
 "nbformat": 4,
 "nbformat_minor": 5
}
