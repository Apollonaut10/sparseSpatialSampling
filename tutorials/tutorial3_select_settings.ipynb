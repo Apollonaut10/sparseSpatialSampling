{
 "cells": [
  {
   "cell_type": "markdown",
   "id": "9e954576-1b51-4afc-a7c4-fb55259f84ee",
   "metadata": {},
   "source": [
    "# Tutorial 3: How to select the best settings and advanced options\n",
    "## flowTorch workshop 29.09.2025 - 02.10.2025\n",
    "\n",
    "### Outline\n",
    "here: \n",
    "- some features and advanced options for $S^3$\n",
    "- influence of different settings and how to select them: uniform levels, delta level constraint, pre_select, n_cells_iter_*"
   ]
  },
  {
   "cell_type": "code",
   "execution_count": null,
   "id": "bac87c9d-3c95-4509-92d8-0182e6ba1ed7",
   "metadata": {},
   "outputs": [],
   "source": [
    "import sys\n",
    "import numpy as np\n",
    "import torch as pt\n",
    "\n",
    "from stl import mesh\n",
    "from os.path import join\n",
    "from os import environ, system\n",
    "\n",
    "environ[\"sparseSpatialSampling\"] = \"..\"\n",
    "sys.path.insert(0, environ[\"sparseSpatialSampling\"])\n",
    "\n",
    "from sparseSpatialSampling.export import ExportData\n",
    "from sparseSpatialSampling.sparse_spatial_sampling import SparseSpatialSampling\n",
    "from sparseSpatialSampling.geometry import CubeGeometry, SphereGeometry"
   ]
  },
  {
   "cell_type": "code",
   "execution_count": null,
   "id": "2eec0519-e390-4101-86f2-a1c7725fe75d",
   "metadata": {},
   "outputs": [],
   "source": [
    "# same as tutorial 1\n",
    "# define load paths to the CFD data\n",
    "load_path = join(\"..\", \"..\", \"flow_data\", \"run\", \"cylinder_2D_Re100\")\n",
    "\n",
    "# here we use the approximated metric field as stopping criterion\n",
    "# how much of the metric within the original grid should be captured at least\n",
    "min_metric = 0.75\n",
    "\n",
    "# define the path to where we want to save the results and the name of the file\n",
    "save_path = join(\"..\", \"run\", \"tutorials\", \"tutorial_3\")\n",
    "save_name = \"cylinder2D_metric_{:.2f}\".format(min_metric)\n",
    "# now we can load the data. Since we used OpenFOAM, we can use the load_foam_data function provided by S^3.\n",
    "# Otherwise, we have to use flowtorch dataloaders directly, refer to the flowtorch documentation\n",
    "\n",
    "# define boundaries of the masked domain for the cylinder, here we want to load the full domain\n",
    "bounds = [[0, 0], [2.2, 0.41]]  # [[xmin, ymin], [xmax, ymax]]\n",
    "\n",
    "# load the CFD data, we want to compute the metric based on the velocity in the quasi-steady state, so omit the first 4 seconds\n",
    "field, coord, _, write_times = load_foam_data(load_path, bounds, field_name=\"U\", t_start=4, scalar=False)"
   ]
  },
  {
   "cell_type": "code",
   "execution_count": null,
   "id": "537aafe0-2b78-4877-b7e2-5fdff11379c3",
   "metadata": {},
   "outputs": [],
   "source": [
    "# now we compute a metric. in this case, we just use the temporal mean of the abs. velocity vector\n",
    "metric = pt.mean(field.abs().sum(1), 1)\n",
    "\n",
    "# create geometry objects for the domain and the cylinder\n",
    "# we don't want to refine the domain boundaries, so keep all the optional arguments as default\n",
    "domain = CubeGeometry(\"domain\", True, bounds[0], bounds[1])\n",
    "geometry = SphereGeometry(\"cylinder\", False, [0.2, 0.2], 0.05, refine=True, min_refinement_level=9)\n",
    "\n",
    "# TODO: delta_level constraint\n",
    "s_cube = SparseSpatialSampling(coord, metric, [domain, geometry], save_path, save_name, \"cylinder2D\", min_metric=min_metric, n_jobs=4,\n",
    "                              max_delta_level=True)"
   ]
  }
 ],
 "metadata": {
  "kernelspec": {
   "display_name": "Python 3 (ipykernel)",
   "language": "python",
   "name": "python3"
  },
  "language_info": {
   "codemirror_mode": {
    "name": "ipython",
    "version": 3
   },
   "file_extension": ".py",
   "mimetype": "text/x-python",
   "name": "python",
   "nbconvert_exporter": "python",
   "pygments_lexer": "ipython3",
   "version": "3.12.7"
  }
 },
 "nbformat": 4,
 "nbformat_minor": 5
}
